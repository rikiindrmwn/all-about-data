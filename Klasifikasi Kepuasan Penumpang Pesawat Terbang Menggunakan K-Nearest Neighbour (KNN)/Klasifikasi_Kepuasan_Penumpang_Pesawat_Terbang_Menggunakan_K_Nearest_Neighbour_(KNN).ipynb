{
  "nbformat": 4,
  "nbformat_minor": 0,
  "metadata": {
    "colab": {
      "provenance": [],
      "authorship_tag": "ABX9TyOVSp9SKxh7WHMOVG8ibTDC",
      "include_colab_link": true
    },
    "kernelspec": {
      "name": "python3",
      "display_name": "Python 3"
    },
    "language_info": {
      "name": "python"
    }
  },
  "cells": [
    {
      "cell_type": "markdown",
      "metadata": {
        "id": "view-in-github",
        "colab_type": "text"
      },
      "source": [
        "<a href=\"https://colab.research.google.com/github/rikiindrmwn/all-about-data/blob/main/Klasifikasi%20Kepuasan%20Penumpang%20Pesawat%20Terbang%20Menggunakan%20K-Nearest%20Neighbour%20(KNN)/Klasifikasi_Kepuasan_Penumpang_Pesawat_Terbang_Menggunakan_K_Nearest_Neighbour_(KNN).ipynb\" target=\"_parent\"><img src=\"https://colab.research.google.com/assets/colab-badge.svg\" alt=\"Open In Colab\"/></a>"
      ]
    },
    {
      "cell_type": "code",
      "execution_count": 1,
      "metadata": {
        "id": "fRTpqXwlxwYT"
      },
      "outputs": [],
      "source": [
        "import pandas as pd\n",
        "import numpy as np\n",
        "from google.colab import drive"
      ]
    },
    {
      "cell_type": "code",
      "source": [
        "drive.mount('/content/drive')"
      ],
      "metadata": {
        "colab": {
          "base_uri": "https://localhost:8080/"
        },
        "id": "E2vfECqEyQXJ",
        "outputId": "73649903-c746-4c27-f6b5-aa2b9ddbce74"
      },
      "execution_count": 2,
      "outputs": [
        {
          "output_type": "stream",
          "name": "stdout",
          "text": [
            "Drive already mounted at /content/drive; to attempt to forcibly remount, call drive.mount(\"/content/drive\", force_remount=True).\n"
          ]
        }
      ]
    },
    {
      "cell_type": "code",
      "source": [
        "dataset = pd.read_csv('/content/drive/MyDrive/DATA SCIENCE/LEARN PYTHON/KLASIFIKASI KEPUASAN PENUMPANG PESAWAT TERBANG/train.csv', index_col=0)\n",
        "df = dataset.copy()"
      ],
      "metadata": {
        "id": "xJPwxyf3ydLg"
      },
      "execution_count": 3,
      "outputs": []
    },
    {
      "cell_type": "code",
      "source": [
        "df.head()"
      ],
      "metadata": {
        "colab": {
          "base_uri": "https://localhost:8080/",
          "height": 438
        },
        "id": "NTIYKf8ZzHTY",
        "outputId": "0c92cd92-626a-4223-f113-3a507a2d611d"
      },
      "execution_count": 4,
      "outputs": [
        {
          "output_type": "execute_result",
          "data": {
            "text/plain": [
              "       id  Gender      Customer Type  Age   Type of Travel     Class  \\\n",
              "0   70172    Male     Loyal Customer   13  Personal Travel  Eco Plus   \n",
              "1    5047    Male  disloyal Customer   25  Business travel  Business   \n",
              "2  110028  Female     Loyal Customer   26  Business travel  Business   \n",
              "3   24026  Female     Loyal Customer   25  Business travel  Business   \n",
              "4  119299    Male     Loyal Customer   61  Business travel  Business   \n",
              "\n",
              "   Flight Distance  Inflight wifi service  Departure/Arrival time convenient  \\\n",
              "0              460                      3                                  4   \n",
              "1              235                      3                                  2   \n",
              "2             1142                      2                                  2   \n",
              "3              562                      2                                  5   \n",
              "4              214                      3                                  3   \n",
              "\n",
              "   Ease of Online booking  ...  Inflight entertainment  On-board service  \\\n",
              "0                       3  ...                       5                 4   \n",
              "1                       3  ...                       1                 1   \n",
              "2                       2  ...                       5                 4   \n",
              "3                       5  ...                       2                 2   \n",
              "4                       3  ...                       3                 3   \n",
              "\n",
              "   Leg room service  Baggage handling  Checkin service  Inflight service  \\\n",
              "0                 3                 4                4                 5   \n",
              "1                 5                 3                1                 4   \n",
              "2                 3                 4                4                 4   \n",
              "3                 5                 3                1                 4   \n",
              "4                 4                 4                3                 3   \n",
              "\n",
              "   Cleanliness  Departure Delay in Minutes  Arrival Delay in Minutes  \\\n",
              "0            5                          25                      18.0   \n",
              "1            1                           1                       6.0   \n",
              "2            5                           0                       0.0   \n",
              "3            2                          11                       9.0   \n",
              "4            3                           0                       0.0   \n",
              "\n",
              "              satisfaction  \n",
              "0  neutral or dissatisfied  \n",
              "1  neutral or dissatisfied  \n",
              "2                satisfied  \n",
              "3  neutral or dissatisfied  \n",
              "4                satisfied  \n",
              "\n",
              "[5 rows x 24 columns]"
            ],
            "text/html": [
              "\n",
              "  <div id=\"df-51e89957-49c2-4465-aef9-80f4cc33b875\">\n",
              "    <div class=\"colab-df-container\">\n",
              "      <div>\n",
              "<style scoped>\n",
              "    .dataframe tbody tr th:only-of-type {\n",
              "        vertical-align: middle;\n",
              "    }\n",
              "\n",
              "    .dataframe tbody tr th {\n",
              "        vertical-align: top;\n",
              "    }\n",
              "\n",
              "    .dataframe thead th {\n",
              "        text-align: right;\n",
              "    }\n",
              "</style>\n",
              "<table border=\"1\" class=\"dataframe\">\n",
              "  <thead>\n",
              "    <tr style=\"text-align: right;\">\n",
              "      <th></th>\n",
              "      <th>id</th>\n",
              "      <th>Gender</th>\n",
              "      <th>Customer Type</th>\n",
              "      <th>Age</th>\n",
              "      <th>Type of Travel</th>\n",
              "      <th>Class</th>\n",
              "      <th>Flight Distance</th>\n",
              "      <th>Inflight wifi service</th>\n",
              "      <th>Departure/Arrival time convenient</th>\n",
              "      <th>Ease of Online booking</th>\n",
              "      <th>...</th>\n",
              "      <th>Inflight entertainment</th>\n",
              "      <th>On-board service</th>\n",
              "      <th>Leg room service</th>\n",
              "      <th>Baggage handling</th>\n",
              "      <th>Checkin service</th>\n",
              "      <th>Inflight service</th>\n",
              "      <th>Cleanliness</th>\n",
              "      <th>Departure Delay in Minutes</th>\n",
              "      <th>Arrival Delay in Minutes</th>\n",
              "      <th>satisfaction</th>\n",
              "    </tr>\n",
              "  </thead>\n",
              "  <tbody>\n",
              "    <tr>\n",
              "      <th>0</th>\n",
              "      <td>70172</td>\n",
              "      <td>Male</td>\n",
              "      <td>Loyal Customer</td>\n",
              "      <td>13</td>\n",
              "      <td>Personal Travel</td>\n",
              "      <td>Eco Plus</td>\n",
              "      <td>460</td>\n",
              "      <td>3</td>\n",
              "      <td>4</td>\n",
              "      <td>3</td>\n",
              "      <td>...</td>\n",
              "      <td>5</td>\n",
              "      <td>4</td>\n",
              "      <td>3</td>\n",
              "      <td>4</td>\n",
              "      <td>4</td>\n",
              "      <td>5</td>\n",
              "      <td>5</td>\n",
              "      <td>25</td>\n",
              "      <td>18.0</td>\n",
              "      <td>neutral or dissatisfied</td>\n",
              "    </tr>\n",
              "    <tr>\n",
              "      <th>1</th>\n",
              "      <td>5047</td>\n",
              "      <td>Male</td>\n",
              "      <td>disloyal Customer</td>\n",
              "      <td>25</td>\n",
              "      <td>Business travel</td>\n",
              "      <td>Business</td>\n",
              "      <td>235</td>\n",
              "      <td>3</td>\n",
              "      <td>2</td>\n",
              "      <td>3</td>\n",
              "      <td>...</td>\n",
              "      <td>1</td>\n",
              "      <td>1</td>\n",
              "      <td>5</td>\n",
              "      <td>3</td>\n",
              "      <td>1</td>\n",
              "      <td>4</td>\n",
              "      <td>1</td>\n",
              "      <td>1</td>\n",
              "      <td>6.0</td>\n",
              "      <td>neutral or dissatisfied</td>\n",
              "    </tr>\n",
              "    <tr>\n",
              "      <th>2</th>\n",
              "      <td>110028</td>\n",
              "      <td>Female</td>\n",
              "      <td>Loyal Customer</td>\n",
              "      <td>26</td>\n",
              "      <td>Business travel</td>\n",
              "      <td>Business</td>\n",
              "      <td>1142</td>\n",
              "      <td>2</td>\n",
              "      <td>2</td>\n",
              "      <td>2</td>\n",
              "      <td>...</td>\n",
              "      <td>5</td>\n",
              "      <td>4</td>\n",
              "      <td>3</td>\n",
              "      <td>4</td>\n",
              "      <td>4</td>\n",
              "      <td>4</td>\n",
              "      <td>5</td>\n",
              "      <td>0</td>\n",
              "      <td>0.0</td>\n",
              "      <td>satisfied</td>\n",
              "    </tr>\n",
              "    <tr>\n",
              "      <th>3</th>\n",
              "      <td>24026</td>\n",
              "      <td>Female</td>\n",
              "      <td>Loyal Customer</td>\n",
              "      <td>25</td>\n",
              "      <td>Business travel</td>\n",
              "      <td>Business</td>\n",
              "      <td>562</td>\n",
              "      <td>2</td>\n",
              "      <td>5</td>\n",
              "      <td>5</td>\n",
              "      <td>...</td>\n",
              "      <td>2</td>\n",
              "      <td>2</td>\n",
              "      <td>5</td>\n",
              "      <td>3</td>\n",
              "      <td>1</td>\n",
              "      <td>4</td>\n",
              "      <td>2</td>\n",
              "      <td>11</td>\n",
              "      <td>9.0</td>\n",
              "      <td>neutral or dissatisfied</td>\n",
              "    </tr>\n",
              "    <tr>\n",
              "      <th>4</th>\n",
              "      <td>119299</td>\n",
              "      <td>Male</td>\n",
              "      <td>Loyal Customer</td>\n",
              "      <td>61</td>\n",
              "      <td>Business travel</td>\n",
              "      <td>Business</td>\n",
              "      <td>214</td>\n",
              "      <td>3</td>\n",
              "      <td>3</td>\n",
              "      <td>3</td>\n",
              "      <td>...</td>\n",
              "      <td>3</td>\n",
              "      <td>3</td>\n",
              "      <td>4</td>\n",
              "      <td>4</td>\n",
              "      <td>3</td>\n",
              "      <td>3</td>\n",
              "      <td>3</td>\n",
              "      <td>0</td>\n",
              "      <td>0.0</td>\n",
              "      <td>satisfied</td>\n",
              "    </tr>\n",
              "  </tbody>\n",
              "</table>\n",
              "<p>5 rows × 24 columns</p>\n",
              "</div>\n",
              "      <button class=\"colab-df-convert\" onclick=\"convertToInteractive('df-51e89957-49c2-4465-aef9-80f4cc33b875')\"\n",
              "              title=\"Convert this dataframe to an interactive table.\"\n",
              "              style=\"display:none;\">\n",
              "        \n",
              "  <svg xmlns=\"http://www.w3.org/2000/svg\" height=\"24px\"viewBox=\"0 0 24 24\"\n",
              "       width=\"24px\">\n",
              "    <path d=\"M0 0h24v24H0V0z\" fill=\"none\"/>\n",
              "    <path d=\"M18.56 5.44l.94 2.06.94-2.06 2.06-.94-2.06-.94-.94-2.06-.94 2.06-2.06.94zm-11 1L8.5 8.5l.94-2.06 2.06-.94-2.06-.94L8.5 2.5l-.94 2.06-2.06.94zm10 10l.94 2.06.94-2.06 2.06-.94-2.06-.94-.94-2.06-.94 2.06-2.06.94z\"/><path d=\"M17.41 7.96l-1.37-1.37c-.4-.4-.92-.59-1.43-.59-.52 0-1.04.2-1.43.59L10.3 9.45l-7.72 7.72c-.78.78-.78 2.05 0 2.83L4 21.41c.39.39.9.59 1.41.59.51 0 1.02-.2 1.41-.59l7.78-7.78 2.81-2.81c.8-.78.8-2.07 0-2.86zM5.41 20L4 18.59l7.72-7.72 1.47 1.35L5.41 20z\"/>\n",
              "  </svg>\n",
              "      </button>\n",
              "      \n",
              "  <style>\n",
              "    .colab-df-container {\n",
              "      display:flex;\n",
              "      flex-wrap:wrap;\n",
              "      gap: 12px;\n",
              "    }\n",
              "\n",
              "    .colab-df-convert {\n",
              "      background-color: #E8F0FE;\n",
              "      border: none;\n",
              "      border-radius: 50%;\n",
              "      cursor: pointer;\n",
              "      display: none;\n",
              "      fill: #1967D2;\n",
              "      height: 32px;\n",
              "      padding: 0 0 0 0;\n",
              "      width: 32px;\n",
              "    }\n",
              "\n",
              "    .colab-df-convert:hover {\n",
              "      background-color: #E2EBFA;\n",
              "      box-shadow: 0px 1px 2px rgba(60, 64, 67, 0.3), 0px 1px 3px 1px rgba(60, 64, 67, 0.15);\n",
              "      fill: #174EA6;\n",
              "    }\n",
              "\n",
              "    [theme=dark] .colab-df-convert {\n",
              "      background-color: #3B4455;\n",
              "      fill: #D2E3FC;\n",
              "    }\n",
              "\n",
              "    [theme=dark] .colab-df-convert:hover {\n",
              "      background-color: #434B5C;\n",
              "      box-shadow: 0px 1px 3px 1px rgba(0, 0, 0, 0.15);\n",
              "      filter: drop-shadow(0px 1px 2px rgba(0, 0, 0, 0.3));\n",
              "      fill: #FFFFFF;\n",
              "    }\n",
              "  </style>\n",
              "\n",
              "      <script>\n",
              "        const buttonEl =\n",
              "          document.querySelector('#df-51e89957-49c2-4465-aef9-80f4cc33b875 button.colab-df-convert');\n",
              "        buttonEl.style.display =\n",
              "          google.colab.kernel.accessAllowed ? 'block' : 'none';\n",
              "\n",
              "        async function convertToInteractive(key) {\n",
              "          const element = document.querySelector('#df-51e89957-49c2-4465-aef9-80f4cc33b875');\n",
              "          const dataTable =\n",
              "            await google.colab.kernel.invokeFunction('convertToInteractive',\n",
              "                                                     [key], {});\n",
              "          if (!dataTable) return;\n",
              "\n",
              "          const docLinkHtml = 'Like what you see? Visit the ' +\n",
              "            '<a target=\"_blank\" href=https://colab.research.google.com/notebooks/data_table.ipynb>data table notebook</a>'\n",
              "            + ' to learn more about interactive tables.';\n",
              "          element.innerHTML = '';\n",
              "          dataTable['output_type'] = 'display_data';\n",
              "          await google.colab.output.renderOutput(dataTable, element);\n",
              "          const docLink = document.createElement('div');\n",
              "          docLink.innerHTML = docLinkHtml;\n",
              "          element.appendChild(docLink);\n",
              "        }\n",
              "      </script>\n",
              "    </div>\n",
              "  </div>\n",
              "  "
            ]
          },
          "metadata": {},
          "execution_count": 4
        }
      ]
    },
    {
      "cell_type": "code",
      "source": [
        "df.shape"
      ],
      "metadata": {
        "colab": {
          "base_uri": "https://localhost:8080/"
        },
        "id": "d_-IMPS0zgwo",
        "outputId": "539fefe8-77fb-43d1-833a-143ef1ceb14b"
      },
      "execution_count": 5,
      "outputs": [
        {
          "output_type": "execute_result",
          "data": {
            "text/plain": [
              "(103904, 24)"
            ]
          },
          "metadata": {},
          "execution_count": 5
        }
      ]
    },
    {
      "cell_type": "code",
      "source": [
        "df.isna().sum()"
      ],
      "metadata": {
        "colab": {
          "base_uri": "https://localhost:8080/"
        },
        "id": "Pv-3gIeXy1xa",
        "outputId": "e05833e9-765f-4e03-b44b-7677b66c52bd"
      },
      "execution_count": 6,
      "outputs": [
        {
          "output_type": "execute_result",
          "data": {
            "text/plain": [
              "id                                     0\n",
              "Gender                                 0\n",
              "Customer Type                          0\n",
              "Age                                    0\n",
              "Type of Travel                         0\n",
              "Class                                  0\n",
              "Flight Distance                        0\n",
              "Inflight wifi service                  0\n",
              "Departure/Arrival time convenient      0\n",
              "Ease of Online booking                 0\n",
              "Gate location                          0\n",
              "Food and drink                         0\n",
              "Online boarding                        0\n",
              "Seat comfort                           0\n",
              "Inflight entertainment                 0\n",
              "On-board service                       0\n",
              "Leg room service                       0\n",
              "Baggage handling                       0\n",
              "Checkin service                        0\n",
              "Inflight service                       0\n",
              "Cleanliness                            0\n",
              "Departure Delay in Minutes             0\n",
              "Arrival Delay in Minutes             310\n",
              "satisfaction                           0\n",
              "dtype: int64"
            ]
          },
          "metadata": {},
          "execution_count": 6
        }
      ]
    },
    {
      "cell_type": "code",
      "source": [
        "df.dropna(axis=0, inplace=True)\n",
        "df.info()"
      ],
      "metadata": {
        "colab": {
          "base_uri": "https://localhost:8080/"
        },
        "id": "pks5agMK0hYN",
        "outputId": "77fbfb98-2467-4f17-f9d5-3f998bc97d77"
      },
      "execution_count": 7,
      "outputs": [
        {
          "output_type": "stream",
          "name": "stdout",
          "text": [
            "<class 'pandas.core.frame.DataFrame'>\n",
            "Int64Index: 103594 entries, 0 to 103903\n",
            "Data columns (total 24 columns):\n",
            " #   Column                             Non-Null Count   Dtype  \n",
            "---  ------                             --------------   -----  \n",
            " 0   id                                 103594 non-null  int64  \n",
            " 1   Gender                             103594 non-null  object \n",
            " 2   Customer Type                      103594 non-null  object \n",
            " 3   Age                                103594 non-null  int64  \n",
            " 4   Type of Travel                     103594 non-null  object \n",
            " 5   Class                              103594 non-null  object \n",
            " 6   Flight Distance                    103594 non-null  int64  \n",
            " 7   Inflight wifi service              103594 non-null  int64  \n",
            " 8   Departure/Arrival time convenient  103594 non-null  int64  \n",
            " 9   Ease of Online booking             103594 non-null  int64  \n",
            " 10  Gate location                      103594 non-null  int64  \n",
            " 11  Food and drink                     103594 non-null  int64  \n",
            " 12  Online boarding                    103594 non-null  int64  \n",
            " 13  Seat comfort                       103594 non-null  int64  \n",
            " 14  Inflight entertainment             103594 non-null  int64  \n",
            " 15  On-board service                   103594 non-null  int64  \n",
            " 16  Leg room service                   103594 non-null  int64  \n",
            " 17  Baggage handling                   103594 non-null  int64  \n",
            " 18  Checkin service                    103594 non-null  int64  \n",
            " 19  Inflight service                   103594 non-null  int64  \n",
            " 20  Cleanliness                        103594 non-null  int64  \n",
            " 21  Departure Delay in Minutes         103594 non-null  int64  \n",
            " 22  Arrival Delay in Minutes           103594 non-null  float64\n",
            " 23  satisfaction                       103594 non-null  object \n",
            "dtypes: float64(1), int64(18), object(5)\n",
            "memory usage: 19.8+ MB\n"
          ]
        }
      ]
    },
    {
      "cell_type": "code",
      "source": [
        "df.drop(columns=['id'], axis=1, inplace=True)"
      ],
      "metadata": {
        "id": "iSHljeuhKNId"
      },
      "execution_count": 8,
      "outputs": []
    },
    {
      "cell_type": "code",
      "source": [
        "df['Gender'].replace(('Male','Female'), (0,1), inplace=True)\n",
        "df['Customer Type'].replace(('disloyal Customer','Loyal Customer'), (0,1), inplace=True)\n",
        "df['Type of Travel'].replace(('Personal Travel', 'Business travel'), (0,1), inplace=True)\n",
        "df['Class'].replace(('Eco', 'Eco Plus', 'Business'), (0,1,2), inplace=True)\n",
        "df['satisfaction'].replace(('neutral or dissatisfied', 'satisfied'), (0,1), inplace=True)"
      ],
      "metadata": {
        "id": "5ppuKikm22yY"
      },
      "execution_count": 9,
      "outputs": []
    },
    {
      "cell_type": "code",
      "source": [
        "df.head()"
      ],
      "metadata": {
        "colab": {
          "base_uri": "https://localhost:8080/",
          "height": 352
        },
        "id": "ZBkKl36d3yPx",
        "outputId": "04528834-e429-4839-df5d-9fe9b2722210"
      },
      "execution_count": 10,
      "outputs": [
        {
          "output_type": "execute_result",
          "data": {
            "text/plain": [
              "   Gender  Customer Type  Age  Type of Travel  Class  Flight Distance  \\\n",
              "0       0              1   13               0      1              460   \n",
              "1       0              0   25               1      2              235   \n",
              "2       1              1   26               1      2             1142   \n",
              "3       1              1   25               1      2              562   \n",
              "4       0              1   61               1      2              214   \n",
              "\n",
              "   Inflight wifi service  Departure/Arrival time convenient  \\\n",
              "0                      3                                  4   \n",
              "1                      3                                  2   \n",
              "2                      2                                  2   \n",
              "3                      2                                  5   \n",
              "4                      3                                  3   \n",
              "\n",
              "   Ease of Online booking  Gate location  ...  Inflight entertainment  \\\n",
              "0                       3              1  ...                       5   \n",
              "1                       3              3  ...                       1   \n",
              "2                       2              2  ...                       5   \n",
              "3                       5              5  ...                       2   \n",
              "4                       3              3  ...                       3   \n",
              "\n",
              "   On-board service  Leg room service  Baggage handling  Checkin service  \\\n",
              "0                 4                 3                 4                4   \n",
              "1                 1                 5                 3                1   \n",
              "2                 4                 3                 4                4   \n",
              "3                 2                 5                 3                1   \n",
              "4                 3                 4                 4                3   \n",
              "\n",
              "   Inflight service  Cleanliness  Departure Delay in Minutes  \\\n",
              "0                 5            5                          25   \n",
              "1                 4            1                           1   \n",
              "2                 4            5                           0   \n",
              "3                 4            2                          11   \n",
              "4                 3            3                           0   \n",
              "\n",
              "   Arrival Delay in Minutes  satisfaction  \n",
              "0                      18.0             0  \n",
              "1                       6.0             0  \n",
              "2                       0.0             1  \n",
              "3                       9.0             0  \n",
              "4                       0.0             1  \n",
              "\n",
              "[5 rows x 23 columns]"
            ],
            "text/html": [
              "\n",
              "  <div id=\"df-676b4b96-1b7b-4b67-82db-77da65a8e205\">\n",
              "    <div class=\"colab-df-container\">\n",
              "      <div>\n",
              "<style scoped>\n",
              "    .dataframe tbody tr th:only-of-type {\n",
              "        vertical-align: middle;\n",
              "    }\n",
              "\n",
              "    .dataframe tbody tr th {\n",
              "        vertical-align: top;\n",
              "    }\n",
              "\n",
              "    .dataframe thead th {\n",
              "        text-align: right;\n",
              "    }\n",
              "</style>\n",
              "<table border=\"1\" class=\"dataframe\">\n",
              "  <thead>\n",
              "    <tr style=\"text-align: right;\">\n",
              "      <th></th>\n",
              "      <th>Gender</th>\n",
              "      <th>Customer Type</th>\n",
              "      <th>Age</th>\n",
              "      <th>Type of Travel</th>\n",
              "      <th>Class</th>\n",
              "      <th>Flight Distance</th>\n",
              "      <th>Inflight wifi service</th>\n",
              "      <th>Departure/Arrival time convenient</th>\n",
              "      <th>Ease of Online booking</th>\n",
              "      <th>Gate location</th>\n",
              "      <th>...</th>\n",
              "      <th>Inflight entertainment</th>\n",
              "      <th>On-board service</th>\n",
              "      <th>Leg room service</th>\n",
              "      <th>Baggage handling</th>\n",
              "      <th>Checkin service</th>\n",
              "      <th>Inflight service</th>\n",
              "      <th>Cleanliness</th>\n",
              "      <th>Departure Delay in Minutes</th>\n",
              "      <th>Arrival Delay in Minutes</th>\n",
              "      <th>satisfaction</th>\n",
              "    </tr>\n",
              "  </thead>\n",
              "  <tbody>\n",
              "    <tr>\n",
              "      <th>0</th>\n",
              "      <td>0</td>\n",
              "      <td>1</td>\n",
              "      <td>13</td>\n",
              "      <td>0</td>\n",
              "      <td>1</td>\n",
              "      <td>460</td>\n",
              "      <td>3</td>\n",
              "      <td>4</td>\n",
              "      <td>3</td>\n",
              "      <td>1</td>\n",
              "      <td>...</td>\n",
              "      <td>5</td>\n",
              "      <td>4</td>\n",
              "      <td>3</td>\n",
              "      <td>4</td>\n",
              "      <td>4</td>\n",
              "      <td>5</td>\n",
              "      <td>5</td>\n",
              "      <td>25</td>\n",
              "      <td>18.0</td>\n",
              "      <td>0</td>\n",
              "    </tr>\n",
              "    <tr>\n",
              "      <th>1</th>\n",
              "      <td>0</td>\n",
              "      <td>0</td>\n",
              "      <td>25</td>\n",
              "      <td>1</td>\n",
              "      <td>2</td>\n",
              "      <td>235</td>\n",
              "      <td>3</td>\n",
              "      <td>2</td>\n",
              "      <td>3</td>\n",
              "      <td>3</td>\n",
              "      <td>...</td>\n",
              "      <td>1</td>\n",
              "      <td>1</td>\n",
              "      <td>5</td>\n",
              "      <td>3</td>\n",
              "      <td>1</td>\n",
              "      <td>4</td>\n",
              "      <td>1</td>\n",
              "      <td>1</td>\n",
              "      <td>6.0</td>\n",
              "      <td>0</td>\n",
              "    </tr>\n",
              "    <tr>\n",
              "      <th>2</th>\n",
              "      <td>1</td>\n",
              "      <td>1</td>\n",
              "      <td>26</td>\n",
              "      <td>1</td>\n",
              "      <td>2</td>\n",
              "      <td>1142</td>\n",
              "      <td>2</td>\n",
              "      <td>2</td>\n",
              "      <td>2</td>\n",
              "      <td>2</td>\n",
              "      <td>...</td>\n",
              "      <td>5</td>\n",
              "      <td>4</td>\n",
              "      <td>3</td>\n",
              "      <td>4</td>\n",
              "      <td>4</td>\n",
              "      <td>4</td>\n",
              "      <td>5</td>\n",
              "      <td>0</td>\n",
              "      <td>0.0</td>\n",
              "      <td>1</td>\n",
              "    </tr>\n",
              "    <tr>\n",
              "      <th>3</th>\n",
              "      <td>1</td>\n",
              "      <td>1</td>\n",
              "      <td>25</td>\n",
              "      <td>1</td>\n",
              "      <td>2</td>\n",
              "      <td>562</td>\n",
              "      <td>2</td>\n",
              "      <td>5</td>\n",
              "      <td>5</td>\n",
              "      <td>5</td>\n",
              "      <td>...</td>\n",
              "      <td>2</td>\n",
              "      <td>2</td>\n",
              "      <td>5</td>\n",
              "      <td>3</td>\n",
              "      <td>1</td>\n",
              "      <td>4</td>\n",
              "      <td>2</td>\n",
              "      <td>11</td>\n",
              "      <td>9.0</td>\n",
              "      <td>0</td>\n",
              "    </tr>\n",
              "    <tr>\n",
              "      <th>4</th>\n",
              "      <td>0</td>\n",
              "      <td>1</td>\n",
              "      <td>61</td>\n",
              "      <td>1</td>\n",
              "      <td>2</td>\n",
              "      <td>214</td>\n",
              "      <td>3</td>\n",
              "      <td>3</td>\n",
              "      <td>3</td>\n",
              "      <td>3</td>\n",
              "      <td>...</td>\n",
              "      <td>3</td>\n",
              "      <td>3</td>\n",
              "      <td>4</td>\n",
              "      <td>4</td>\n",
              "      <td>3</td>\n",
              "      <td>3</td>\n",
              "      <td>3</td>\n",
              "      <td>0</td>\n",
              "      <td>0.0</td>\n",
              "      <td>1</td>\n",
              "    </tr>\n",
              "  </tbody>\n",
              "</table>\n",
              "<p>5 rows × 23 columns</p>\n",
              "</div>\n",
              "      <button class=\"colab-df-convert\" onclick=\"convertToInteractive('df-676b4b96-1b7b-4b67-82db-77da65a8e205')\"\n",
              "              title=\"Convert this dataframe to an interactive table.\"\n",
              "              style=\"display:none;\">\n",
              "        \n",
              "  <svg xmlns=\"http://www.w3.org/2000/svg\" height=\"24px\"viewBox=\"0 0 24 24\"\n",
              "       width=\"24px\">\n",
              "    <path d=\"M0 0h24v24H0V0z\" fill=\"none\"/>\n",
              "    <path d=\"M18.56 5.44l.94 2.06.94-2.06 2.06-.94-2.06-.94-.94-2.06-.94 2.06-2.06.94zm-11 1L8.5 8.5l.94-2.06 2.06-.94-2.06-.94L8.5 2.5l-.94 2.06-2.06.94zm10 10l.94 2.06.94-2.06 2.06-.94-2.06-.94-.94-2.06-.94 2.06-2.06.94z\"/><path d=\"M17.41 7.96l-1.37-1.37c-.4-.4-.92-.59-1.43-.59-.52 0-1.04.2-1.43.59L10.3 9.45l-7.72 7.72c-.78.78-.78 2.05 0 2.83L4 21.41c.39.39.9.59 1.41.59.51 0 1.02-.2 1.41-.59l7.78-7.78 2.81-2.81c.8-.78.8-2.07 0-2.86zM5.41 20L4 18.59l7.72-7.72 1.47 1.35L5.41 20z\"/>\n",
              "  </svg>\n",
              "      </button>\n",
              "      \n",
              "  <style>\n",
              "    .colab-df-container {\n",
              "      display:flex;\n",
              "      flex-wrap:wrap;\n",
              "      gap: 12px;\n",
              "    }\n",
              "\n",
              "    .colab-df-convert {\n",
              "      background-color: #E8F0FE;\n",
              "      border: none;\n",
              "      border-radius: 50%;\n",
              "      cursor: pointer;\n",
              "      display: none;\n",
              "      fill: #1967D2;\n",
              "      height: 32px;\n",
              "      padding: 0 0 0 0;\n",
              "      width: 32px;\n",
              "    }\n",
              "\n",
              "    .colab-df-convert:hover {\n",
              "      background-color: #E2EBFA;\n",
              "      box-shadow: 0px 1px 2px rgba(60, 64, 67, 0.3), 0px 1px 3px 1px rgba(60, 64, 67, 0.15);\n",
              "      fill: #174EA6;\n",
              "    }\n",
              "\n",
              "    [theme=dark] .colab-df-convert {\n",
              "      background-color: #3B4455;\n",
              "      fill: #D2E3FC;\n",
              "    }\n",
              "\n",
              "    [theme=dark] .colab-df-convert:hover {\n",
              "      background-color: #434B5C;\n",
              "      box-shadow: 0px 1px 3px 1px rgba(0, 0, 0, 0.15);\n",
              "      filter: drop-shadow(0px 1px 2px rgba(0, 0, 0, 0.3));\n",
              "      fill: #FFFFFF;\n",
              "    }\n",
              "  </style>\n",
              "\n",
              "      <script>\n",
              "        const buttonEl =\n",
              "          document.querySelector('#df-676b4b96-1b7b-4b67-82db-77da65a8e205 button.colab-df-convert');\n",
              "        buttonEl.style.display =\n",
              "          google.colab.kernel.accessAllowed ? 'block' : 'none';\n",
              "\n",
              "        async function convertToInteractive(key) {\n",
              "          const element = document.querySelector('#df-676b4b96-1b7b-4b67-82db-77da65a8e205');\n",
              "          const dataTable =\n",
              "            await google.colab.kernel.invokeFunction('convertToInteractive',\n",
              "                                                     [key], {});\n",
              "          if (!dataTable) return;\n",
              "\n",
              "          const docLinkHtml = 'Like what you see? Visit the ' +\n",
              "            '<a target=\"_blank\" href=https://colab.research.google.com/notebooks/data_table.ipynb>data table notebook</a>'\n",
              "            + ' to learn more about interactive tables.';\n",
              "          element.innerHTML = '';\n",
              "          dataTable['output_type'] = 'display_data';\n",
              "          await google.colab.output.renderOutput(dataTable, element);\n",
              "          const docLink = document.createElement('div');\n",
              "          docLink.innerHTML = docLinkHtml;\n",
              "          element.appendChild(docLink);\n",
              "        }\n",
              "      </script>\n",
              "    </div>\n",
              "  </div>\n",
              "  "
            ]
          },
          "metadata": {},
          "execution_count": 10
        }
      ]
    },
    {
      "cell_type": "code",
      "source": [
        "korelasi_fitur_terhadap_target = df.corr(method='pearson')\n",
        "korelasi_fitur_terhadap_target['satisfaction'].sort_values(ascending=False)"
      ],
      "metadata": {
        "colab": {
          "base_uri": "https://localhost:8080/"
        },
        "id": "h2f9YBs806Gv",
        "outputId": "c015c127-0573-4845-f4b6-20658eba155e"
      },
      "execution_count": 11,
      "outputs": [
        {
          "output_type": "execute_result",
          "data": {
            "text/plain": [
              "satisfaction                         1.000000\n",
              "Online boarding                      0.503447\n",
              "Class                                0.494545\n",
              "Type of Travel                       0.448995\n",
              "Inflight entertainment               0.398203\n",
              "Seat comfort                         0.349112\n",
              "On-board service                     0.322450\n",
              "Leg room service                     0.313182\n",
              "Cleanliness                          0.305050\n",
              "Flight Distance                      0.298915\n",
              "Inflight wifi service                0.284163\n",
              "Baggage handling                     0.247819\n",
              "Inflight service                     0.244852\n",
              "Checkin service                      0.235914\n",
              "Food and drink                       0.209659\n",
              "Customer Type                        0.187558\n",
              "Ease of Online booking               0.171507\n",
              "Age                                  0.137040\n",
              "Gate location                        0.000449\n",
              "Gender                              -0.012356\n",
              "Departure Delay in Minutes          -0.050515\n",
              "Departure/Arrival time convenient   -0.051718\n",
              "Arrival Delay in Minutes            -0.057582\n",
              "Name: satisfaction, dtype: float64"
            ]
          },
          "metadata": {},
          "execution_count": 11
        }
      ]
    },
    {
      "cell_type": "code",
      "source": [
        "feature_terpilih = korelasi_fitur_terhadap_target[korelasi_fitur_terhadap_target['satisfaction'] > 0.2].index\n",
        "feature_terpilih"
      ],
      "metadata": {
        "colab": {
          "base_uri": "https://localhost:8080/"
        },
        "id": "UwMT151uFxKj",
        "outputId": "656ebc38-39fe-4c95-b81e-7372655df15e"
      },
      "execution_count": 12,
      "outputs": [
        {
          "output_type": "execute_result",
          "data": {
            "text/plain": [
              "Index(['Type of Travel', 'Class', 'Flight Distance', 'Inflight wifi service',\n",
              "       'Food and drink', 'Online boarding', 'Seat comfort',\n",
              "       'Inflight entertainment', 'On-board service', 'Leg room service',\n",
              "       'Baggage handling', 'Checkin service', 'Inflight service',\n",
              "       'Cleanliness', 'satisfaction'],\n",
              "      dtype='object')"
            ]
          },
          "metadata": {},
          "execution_count": 12
        }
      ]
    },
    {
      "cell_type": "code",
      "source": [
        "df_feature_terpilih = df[feature_terpilih]\n",
        "\n",
        "X_train_1 = np.array(df_feature_terpilih.iloc[:, :df_feature_terpilih.shape[1]-1])\n",
        "y_train_1 = np.array(df_feature_terpilih.iloc[:, df_feature_terpilih.shape[1]-1])\n",
        "\n",
        "X_train_1"
      ],
      "metadata": {
        "colab": {
          "base_uri": "https://localhost:8080/"
        },
        "id": "lqSTVp0eI3qs",
        "outputId": "236e1a98-9320-4a26-ecab-e655fa8402b1"
      },
      "execution_count": 13,
      "outputs": [
        {
          "output_type": "execute_result",
          "data": {
            "text/plain": [
              "array([[   0,    1,  460, ...,    4,    5,    5],\n",
              "       [   1,    2,  235, ...,    1,    4,    1],\n",
              "       [   1,    2, 1142, ...,    4,    4,    5],\n",
              "       ...,\n",
              "       [   1,    2, 1995, ...,    5,    5,    4],\n",
              "       [   1,    0, 1000, ...,    5,    4,    1],\n",
              "       [   1,    2, 1723, ...,    4,    3,    1]])"
            ]
          },
          "metadata": {},
          "execution_count": 13
        }
      ]
    },
    {
      "cell_type": "code",
      "source": [
        "X = df.iloc[:, :df.shape[1]-1] \n",
        "y = df.iloc[:, df.shape[1]-1]"
      ],
      "metadata": {
        "id": "QsYvx7VJJEiw"
      },
      "execution_count": 14,
      "outputs": []
    },
    {
      "cell_type": "code",
      "source": [
        "from sklearn.feature_selection import SelectKBest\n",
        "from sklearn.feature_selection import chi2\n",
        "\n",
        "bestfeatures = SelectKBest(score_func=chi2, k=10)\n",
        "fit = bestfeatures.fit(X,y)"
      ],
      "metadata": {
        "id": "X3b5zUoZA8IU"
      },
      "execution_count": 15,
      "outputs": []
    },
    {
      "cell_type": "code",
      "source": [
        "dfscores = pd.DataFrame(fit.scores_)\n",
        "dfkolom = pd.DataFrame(df.columns)\n",
        "\n",
        "featurescore = pd.concat([dfkolom, dfscores], axis=1)\n",
        "featurescore.columns = ['Feature', 'Score']\n",
        "featurescore.sort_values('Score', ascending=False)"
      ],
      "metadata": {
        "colab": {
          "base_uri": "https://localhost:8080/",
          "height": 770
        },
        "id": "orP0K0XhCD-n",
        "outputId": "02d2c24a-6a08-4f36-ebd6-6eb137f7736e"
      },
      "execution_count": 16,
      "outputs": [
        {
          "output_type": "execute_result",
          "data": {
            "text/plain": [
              "                              Feature         Score\n",
              "5                     Flight Distance  7.740606e+06\n",
              "21           Arrival Delay in Minutes  3.388907e+04\n",
              "20         Departure Delay in Minutes  2.604190e+04\n",
              "4                               Class  2.284134e+04\n",
              "11                    Online boarding  1.470926e+04\n",
              "2                                 Age  1.128372e+04\n",
              "13             Inflight entertainment  8.691513e+03\n",
              "3                      Type of Travel  6.477092e+03\n",
              "12                       Seat comfort  6.384881e+03\n",
              "6               Inflight wifi service  5.403193e+03\n",
              "14                   On-board service  5.284790e+03\n",
              "15                   Leg room service  5.245905e+03\n",
              "19                        Cleanliness  5.050652e+03\n",
              "17                    Checkin service  2.793895e+03\n",
              "10                     Food and drink  2.513223e+03\n",
              "16                   Baggage handling  2.443600e+03\n",
              "18                   Inflight service  2.357584e+03\n",
              "8              Ease of Online booking  2.162993e+03\n",
              "1                       Customer Type  6.659929e+02\n",
              "7   Departure/Arrival time convenient  2.106489e+02\n",
              "0                              Gender  7.788946e+00\n",
              "9                       Gate location  1.147346e-02\n",
              "22                       satisfaction           NaN"
            ],
            "text/html": [
              "\n",
              "  <div id=\"df-dbd22aff-d746-49ac-9a3a-e37f726f099a\">\n",
              "    <div class=\"colab-df-container\">\n",
              "      <div>\n",
              "<style scoped>\n",
              "    .dataframe tbody tr th:only-of-type {\n",
              "        vertical-align: middle;\n",
              "    }\n",
              "\n",
              "    .dataframe tbody tr th {\n",
              "        vertical-align: top;\n",
              "    }\n",
              "\n",
              "    .dataframe thead th {\n",
              "        text-align: right;\n",
              "    }\n",
              "</style>\n",
              "<table border=\"1\" class=\"dataframe\">\n",
              "  <thead>\n",
              "    <tr style=\"text-align: right;\">\n",
              "      <th></th>\n",
              "      <th>Feature</th>\n",
              "      <th>Score</th>\n",
              "    </tr>\n",
              "  </thead>\n",
              "  <tbody>\n",
              "    <tr>\n",
              "      <th>5</th>\n",
              "      <td>Flight Distance</td>\n",
              "      <td>7.740606e+06</td>\n",
              "    </tr>\n",
              "    <tr>\n",
              "      <th>21</th>\n",
              "      <td>Arrival Delay in Minutes</td>\n",
              "      <td>3.388907e+04</td>\n",
              "    </tr>\n",
              "    <tr>\n",
              "      <th>20</th>\n",
              "      <td>Departure Delay in Minutes</td>\n",
              "      <td>2.604190e+04</td>\n",
              "    </tr>\n",
              "    <tr>\n",
              "      <th>4</th>\n",
              "      <td>Class</td>\n",
              "      <td>2.284134e+04</td>\n",
              "    </tr>\n",
              "    <tr>\n",
              "      <th>11</th>\n",
              "      <td>Online boarding</td>\n",
              "      <td>1.470926e+04</td>\n",
              "    </tr>\n",
              "    <tr>\n",
              "      <th>2</th>\n",
              "      <td>Age</td>\n",
              "      <td>1.128372e+04</td>\n",
              "    </tr>\n",
              "    <tr>\n",
              "      <th>13</th>\n",
              "      <td>Inflight entertainment</td>\n",
              "      <td>8.691513e+03</td>\n",
              "    </tr>\n",
              "    <tr>\n",
              "      <th>3</th>\n",
              "      <td>Type of Travel</td>\n",
              "      <td>6.477092e+03</td>\n",
              "    </tr>\n",
              "    <tr>\n",
              "      <th>12</th>\n",
              "      <td>Seat comfort</td>\n",
              "      <td>6.384881e+03</td>\n",
              "    </tr>\n",
              "    <tr>\n",
              "      <th>6</th>\n",
              "      <td>Inflight wifi service</td>\n",
              "      <td>5.403193e+03</td>\n",
              "    </tr>\n",
              "    <tr>\n",
              "      <th>14</th>\n",
              "      <td>On-board service</td>\n",
              "      <td>5.284790e+03</td>\n",
              "    </tr>\n",
              "    <tr>\n",
              "      <th>15</th>\n",
              "      <td>Leg room service</td>\n",
              "      <td>5.245905e+03</td>\n",
              "    </tr>\n",
              "    <tr>\n",
              "      <th>19</th>\n",
              "      <td>Cleanliness</td>\n",
              "      <td>5.050652e+03</td>\n",
              "    </tr>\n",
              "    <tr>\n",
              "      <th>17</th>\n",
              "      <td>Checkin service</td>\n",
              "      <td>2.793895e+03</td>\n",
              "    </tr>\n",
              "    <tr>\n",
              "      <th>10</th>\n",
              "      <td>Food and drink</td>\n",
              "      <td>2.513223e+03</td>\n",
              "    </tr>\n",
              "    <tr>\n",
              "      <th>16</th>\n",
              "      <td>Baggage handling</td>\n",
              "      <td>2.443600e+03</td>\n",
              "    </tr>\n",
              "    <tr>\n",
              "      <th>18</th>\n",
              "      <td>Inflight service</td>\n",
              "      <td>2.357584e+03</td>\n",
              "    </tr>\n",
              "    <tr>\n",
              "      <th>8</th>\n",
              "      <td>Ease of Online booking</td>\n",
              "      <td>2.162993e+03</td>\n",
              "    </tr>\n",
              "    <tr>\n",
              "      <th>1</th>\n",
              "      <td>Customer Type</td>\n",
              "      <td>6.659929e+02</td>\n",
              "    </tr>\n",
              "    <tr>\n",
              "      <th>7</th>\n",
              "      <td>Departure/Arrival time convenient</td>\n",
              "      <td>2.106489e+02</td>\n",
              "    </tr>\n",
              "    <tr>\n",
              "      <th>0</th>\n",
              "      <td>Gender</td>\n",
              "      <td>7.788946e+00</td>\n",
              "    </tr>\n",
              "    <tr>\n",
              "      <th>9</th>\n",
              "      <td>Gate location</td>\n",
              "      <td>1.147346e-02</td>\n",
              "    </tr>\n",
              "    <tr>\n",
              "      <th>22</th>\n",
              "      <td>satisfaction</td>\n",
              "      <td>NaN</td>\n",
              "    </tr>\n",
              "  </tbody>\n",
              "</table>\n",
              "</div>\n",
              "      <button class=\"colab-df-convert\" onclick=\"convertToInteractive('df-dbd22aff-d746-49ac-9a3a-e37f726f099a')\"\n",
              "              title=\"Convert this dataframe to an interactive table.\"\n",
              "              style=\"display:none;\">\n",
              "        \n",
              "  <svg xmlns=\"http://www.w3.org/2000/svg\" height=\"24px\"viewBox=\"0 0 24 24\"\n",
              "       width=\"24px\">\n",
              "    <path d=\"M0 0h24v24H0V0z\" fill=\"none\"/>\n",
              "    <path d=\"M18.56 5.44l.94 2.06.94-2.06 2.06-.94-2.06-.94-.94-2.06-.94 2.06-2.06.94zm-11 1L8.5 8.5l.94-2.06 2.06-.94-2.06-.94L8.5 2.5l-.94 2.06-2.06.94zm10 10l.94 2.06.94-2.06 2.06-.94-2.06-.94-.94-2.06-.94 2.06-2.06.94z\"/><path d=\"M17.41 7.96l-1.37-1.37c-.4-.4-.92-.59-1.43-.59-.52 0-1.04.2-1.43.59L10.3 9.45l-7.72 7.72c-.78.78-.78 2.05 0 2.83L4 21.41c.39.39.9.59 1.41.59.51 0 1.02-.2 1.41-.59l7.78-7.78 2.81-2.81c.8-.78.8-2.07 0-2.86zM5.41 20L4 18.59l7.72-7.72 1.47 1.35L5.41 20z\"/>\n",
              "  </svg>\n",
              "      </button>\n",
              "      \n",
              "  <style>\n",
              "    .colab-df-container {\n",
              "      display:flex;\n",
              "      flex-wrap:wrap;\n",
              "      gap: 12px;\n",
              "    }\n",
              "\n",
              "    .colab-df-convert {\n",
              "      background-color: #E8F0FE;\n",
              "      border: none;\n",
              "      border-radius: 50%;\n",
              "      cursor: pointer;\n",
              "      display: none;\n",
              "      fill: #1967D2;\n",
              "      height: 32px;\n",
              "      padding: 0 0 0 0;\n",
              "      width: 32px;\n",
              "    }\n",
              "\n",
              "    .colab-df-convert:hover {\n",
              "      background-color: #E2EBFA;\n",
              "      box-shadow: 0px 1px 2px rgba(60, 64, 67, 0.3), 0px 1px 3px 1px rgba(60, 64, 67, 0.15);\n",
              "      fill: #174EA6;\n",
              "    }\n",
              "\n",
              "    [theme=dark] .colab-df-convert {\n",
              "      background-color: #3B4455;\n",
              "      fill: #D2E3FC;\n",
              "    }\n",
              "\n",
              "    [theme=dark] .colab-df-convert:hover {\n",
              "      background-color: #434B5C;\n",
              "      box-shadow: 0px 1px 3px 1px rgba(0, 0, 0, 0.15);\n",
              "      filter: drop-shadow(0px 1px 2px rgba(0, 0, 0, 0.3));\n",
              "      fill: #FFFFFF;\n",
              "    }\n",
              "  </style>\n",
              "\n",
              "      <script>\n",
              "        const buttonEl =\n",
              "          document.querySelector('#df-dbd22aff-d746-49ac-9a3a-e37f726f099a button.colab-df-convert');\n",
              "        buttonEl.style.display =\n",
              "          google.colab.kernel.accessAllowed ? 'block' : 'none';\n",
              "\n",
              "        async function convertToInteractive(key) {\n",
              "          const element = document.querySelector('#df-dbd22aff-d746-49ac-9a3a-e37f726f099a');\n",
              "          const dataTable =\n",
              "            await google.colab.kernel.invokeFunction('convertToInteractive',\n",
              "                                                     [key], {});\n",
              "          if (!dataTable) return;\n",
              "\n",
              "          const docLinkHtml = 'Like what you see? Visit the ' +\n",
              "            '<a target=\"_blank\" href=https://colab.research.google.com/notebooks/data_table.ipynb>data table notebook</a>'\n",
              "            + ' to learn more about interactive tables.';\n",
              "          element.innerHTML = '';\n",
              "          dataTable['output_type'] = 'display_data';\n",
              "          await google.colab.output.renderOutput(dataTable, element);\n",
              "          const docLink = document.createElement('div');\n",
              "          docLink.innerHTML = docLinkHtml;\n",
              "          element.appendChild(docLink);\n",
              "        }\n",
              "      </script>\n",
              "    </div>\n",
              "  </div>\n",
              "  "
            ]
          },
          "metadata": {},
          "execution_count": 16
        }
      ]
    },
    {
      "cell_type": "code",
      "source": [
        "feature_terpilih_2 = featurescore.sort_values('Score', ascending=False)['Feature'].head(15).values\n",
        "feature_terpilih_2"
      ],
      "metadata": {
        "colab": {
          "base_uri": "https://localhost:8080/"
        },
        "id": "wXigRpSEJgnQ",
        "outputId": "ef757ea5-93fc-42d4-f860-0967b024a59c"
      },
      "execution_count": 17,
      "outputs": [
        {
          "output_type": "execute_result",
          "data": {
            "text/plain": [
              "array(['Flight Distance', 'Arrival Delay in Minutes',\n",
              "       'Departure Delay in Minutes', 'Class', 'Online boarding', 'Age',\n",
              "       'Inflight entertainment', 'Type of Travel', 'Seat comfort',\n",
              "       'Inflight wifi service', 'On-board service', 'Leg room service',\n",
              "       'Cleanliness', 'Checkin service', 'Food and drink'], dtype=object)"
            ]
          },
          "metadata": {},
          "execution_count": 17
        }
      ]
    },
    {
      "cell_type": "code",
      "source": [
        "df_feature_terpilih_2 = df[feature_terpilih_2]\n",
        "\n",
        "X_train_2 = np.array(df_feature_terpilih_2.iloc[:, :df_feature_terpilih_2.shape[1]-1])\n",
        "y_train_2 = np.array(df_feature_terpilih_2.iloc[:, df_feature_terpilih_2.shape[1]-1])\n",
        "\n",
        "y_train_2"
      ],
      "metadata": {
        "colab": {
          "base_uri": "https://localhost:8080/"
        },
        "id": "7BhoHlq2KmpF",
        "outputId": "720b7dea-8d94-468b-f4ea-4961a34bf418"
      },
      "execution_count": 18,
      "outputs": [
        {
          "output_type": "execute_result",
          "data": {
            "text/plain": [
              "array([5, 1, 5, ..., 4, 1, 1])"
            ]
          },
          "metadata": {},
          "execution_count": 18
        }
      ]
    },
    {
      "cell_type": "code",
      "source": [
        "from sklearn.neighbors import KNeighborsClassifier\n",
        "\n",
        "model_1 = KNeighborsClassifier(n_neighbors=5)\n",
        "model_2 = KNeighborsClassifier(n_neighbors=5)\n",
        "\n",
        "model_1.fit(X_train_1, y_train_1)\n",
        "model_2.fit(X_train_2, y_train_2)"
      ],
      "metadata": {
        "colab": {
          "base_uri": "https://localhost:8080/"
        },
        "id": "97XlzkhfLnlO",
        "outputId": "4c872711-2f63-47ca-da40-276a1639cd6c"
      },
      "execution_count": 19,
      "outputs": [
        {
          "output_type": "execute_result",
          "data": {
            "text/plain": [
              "KNeighborsClassifier()"
            ]
          },
          "metadata": {},
          "execution_count": 19
        }
      ]
    },
    {
      "cell_type": "code",
      "source": [
        "dataset_test = pd.read_csv('/content/drive/MyDrive/DATA SCIENCE/LEARN PYTHON/KLASIFIKASI KEPUASAN PENUMPANG PESAWAT TERBANG/test.csv')\n",
        "df_test = dataset_test.copy()"
      ],
      "metadata": {
        "id": "ELUQdx7LMkQV"
      },
      "execution_count": 20,
      "outputs": []
    },
    {
      "cell_type": "code",
      "source": [
        "df_test.dropna(axis=0, inplace=True)\n",
        "df_test.drop(columns=['id'], axis=1, inplace=True)\n",
        "\n",
        "df_test['Gender'].replace(('Male','Female'), (0,1), inplace=True)\n",
        "df_test['Customer Type'].replace(('disloyal Customer','Loyal Customer'), (0,1), inplace=True)\n",
        "df_test['Type of Travel'].replace(('Personal Travel', 'Business travel'), (0,1), inplace=True)\n",
        "df_test['Class'].replace(('Eco', 'Eco Plus', 'Business'), (0,1,2), inplace=True)\n",
        "df_test['satisfaction'].replace(('neutral or dissatisfied', 'satisfied'), (0,1), inplace=True)"
      ],
      "metadata": {
        "id": "munhiaOyNU_F"
      },
      "execution_count": 21,
      "outputs": []
    },
    {
      "cell_type": "code",
      "source": [
        "df_feature_test_terpilih = df_test[feature_terpilih]\n",
        "\n",
        "X_test_1 = np.array(df_feature_test_terpilih.iloc[:, :df_feature_test_terpilih.shape[1]-1])\n",
        "y_test_1 = np.array(df_feature_test_terpilih.iloc[:, df_feature_test_terpilih.shape[1]-1])\n",
        "\n",
        "X_test_1"
      ],
      "metadata": {
        "colab": {
          "base_uri": "https://localhost:8080/"
        },
        "id": "iKb0orIpOAb2",
        "outputId": "7634b6ed-e61e-453c-ae31-b8850c5482bc"
      },
      "execution_count": 22,
      "outputs": [
        {
          "output_type": "execute_result",
          "data": {
            "text/plain": [
              "array([[   1,    0,  160, ...,    2,    5,    5],\n",
              "       [   1,    2, 2863, ...,    3,    4,    5],\n",
              "       [   1,    0,  192, ...,    2,    2,    2],\n",
              "       ...,\n",
              "       [   0,    0,  828, ...,    5,    4,    2],\n",
              "       [   1,    2, 1127, ...,    4,    5,    4],\n",
              "       [   0,    0,  264, ...,    1,    1,    1]])"
            ]
          },
          "metadata": {},
          "execution_count": 22
        }
      ]
    },
    {
      "cell_type": "code",
      "source": [
        "df_feature_test_terpilih_2 = df_test[feature_terpilih_2]\n",
        "\n",
        "X_test_2 = np.array(df_feature_test_terpilih_2.iloc[:, :df_feature_test_terpilih_2.shape[1]-1])\n",
        "y_test_2 = np.array(df_feature_test_terpilih_2.iloc[:, df_feature_test_terpilih_2.shape[1]-1])\n",
        "\n",
        "X_test_2"
      ],
      "metadata": {
        "colab": {
          "base_uri": "https://localhost:8080/"
        },
        "id": "NaTFDJ77Oheb",
        "outputId": "95b0d0d4-2446-439b-ed57-21ad0c4721af"
      },
      "execution_count": 23,
      "outputs": [
        {
          "output_type": "execute_result",
          "data": {
            "text/plain": [
              "array([[1.600e+02, 4.400e+01, 5.000e+01, ..., 5.000e+00, 5.000e+00,\n",
              "        2.000e+00],\n",
              "       [2.863e+03, 0.000e+00, 0.000e+00, ..., 4.000e+00, 5.000e+00,\n",
              "        3.000e+00],\n",
              "       [1.920e+02, 0.000e+00, 0.000e+00, ..., 1.000e+00, 2.000e+00,\n",
              "        2.000e+00],\n",
              "       ...,\n",
              "       [8.280e+02, 0.000e+00, 0.000e+00, ..., 3.000e+00, 2.000e+00,\n",
              "        5.000e+00],\n",
              "       [1.127e+03, 0.000e+00, 0.000e+00, ..., 2.000e+00, 4.000e+00,\n",
              "        4.000e+00],\n",
              "       [2.640e+02, 0.000e+00, 0.000e+00, ..., 2.000e+00, 1.000e+00,\n",
              "        1.000e+00]])"
            ]
          },
          "metadata": {},
          "execution_count": 23
        }
      ]
    },
    {
      "cell_type": "code",
      "source": [
        "prediksi_model_1 = model_1.predict(X_test_1)\n",
        "prediksi_model_2 = model_2.predict(X_test_2)"
      ],
      "metadata": {
        "id": "ljuCQzuGPYXb"
      },
      "execution_count": 24,
      "outputs": []
    },
    {
      "cell_type": "code",
      "source": [
        "from sklearn.metrics import accuracy_score\n",
        "\n",
        "akurasi_model_1 = accuracy_score(y_test_1, prediksi_model_1)\n",
        "akurasi_model_2 = accuracy_score(y_test_2, prediksi_model_2)\n",
        "\n",
        "print(f'Akurasi Testing Model 1 : {akurasi_model_1}')\n",
        "print(f'Akurasi Testing Model 2 : {akurasi_model_2}')"
      ],
      "metadata": {
        "colab": {
          "base_uri": "https://localhost:8080/"
        },
        "id": "kBKhZEREPBLE",
        "outputId": "63e8a92b-e1c3-4a76-f681-2d6887b44a8e"
      },
      "execution_count": 25,
      "outputs": [
        {
          "output_type": "stream",
          "name": "stdout",
          "text": [
            "Akurasi Testing Model 1 : 0.8551732128374464\n",
            "Akurasi Testing Model 2 : 0.30402039161163247\n"
          ]
        }
      ]
    },
    {
      "cell_type": "code",
      "source": [
        "import joblib\n",
        "\n",
        "joblib.dump(model_1, 'model_knn')"
      ],
      "metadata": {
        "colab": {
          "base_uri": "https://localhost:8080/"
        },
        "id": "WcAfldxRRKjz",
        "outputId": "459eafc0-5b81-45ef-a30d-5c844287d6dc"
      },
      "execution_count": 26,
      "outputs": [
        {
          "output_type": "execute_result",
          "data": {
            "text/plain": [
              "['model_knn']"
            ]
          },
          "metadata": {},
          "execution_count": 26
        }
      ]
    },
    {
      "cell_type": "markdown",
      "source": [
        "# Penjelasan Model\n",
        "\n",
        "\n",
        "1.   Notebook ini berusaha untuk membuat model yang dapat mengklasifikasikan kepuasan penumpang pesat terbang dengan menggunakan algoritma K-Nearest Neighbour (KNN)\n",
        "2.   Terdapat 2 (dua) teknik seleksi fitur yang dicoba yaitu seleksi fitur berdasarkan hubungannya dengan target dan seleksi fitur menggunakan perhitungan chi square. Kedua hasil seleksi fitur tersebut, digunakan sebagai data training pada model yang berbeda yaitu model_1 untuk seleksi fitur berdasarkan hubungannya terhadap data target dan model_2 untuk seleksi fitur menggunakan chi square\n",
        "3.   Berdasarkan hasil akurasi testing yang diperoleh, maka disimpulkan bahwa data fitur yang digunakan pada model_1, lebih valid jika dibandingkan dengan fitur yang digunakan pada model_2, karena model_1 menghasilkan akurasi yang lebih baik yaitu 0.8551732128374464, sedangkan model_2 hanya menghasilkan akurasi sebesar 0.3040203916116324.\n",
        "4.   Untuk itu model yang akan digunakan adalah model_1.\n",
        "\n"
      ],
      "metadata": {
        "id": "LU8vAX1WRnOM"
      }
    }
  ]
}